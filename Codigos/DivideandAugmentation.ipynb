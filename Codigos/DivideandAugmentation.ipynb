{
 "cells": [
  {
   "attachments": {},
   "cell_type": "markdown",
   "metadata": {},
   "source": [
    "## Creación de modelos para el analísis de imagenes de 5 tipos de insectos para su clasificación"
   ]
  },
  {
   "attachments": {},
   "cell_type": "markdown",
   "metadata": {},
   "source": [
    "**Importación de librerias**"
   ]
  },
  {
   "cell_type": "code",
   "execution_count": 2,
   "metadata": {},
   "outputs": [],
   "source": [
    "import os\n",
    "import random\n",
    "import shutil\n",
    "from tensorflow.keras.preprocessing.image import ImageDataGenerator\n",
    "from PIL import Image\n",
    "import numpy as np"
   ]
  },
  {
   "cell_type": "code",
   "execution_count": 3,
   "metadata": {},
   "outputs": [],
   "source": [
    "# Ruta de la carpeta principal del dataset\n",
    "dataset_path = \"../Faces\"\n",
    "\n",
    "# Ruta de la carpeta de entrenamiento y prueba\n",
    "train_path = \"../FacesDataset/train\"\n",
    "test_path = \"../FacesDataset/test\"\n",
    "\n",
    "# Proporción de división (80% para entrenamiento, 20% para prueba)\n",
    "train_ratio = 0.8"
   ]
  },
  {
   "cell_type": "code",
   "execution_count": 4,
   "metadata": {},
   "outputs": [],
   "source": [
    "#Parámetros para el aumento de imagenes\n",
    "datagen = ImageDataGenerator(\n",
    "    horizontal_flip=True,\n",
    "    vertical_flip=True,\n",
    "    rescale=1. / 255,\n",
    "    shear_range=0.1,\n",
    "    zoom_range=0.1,\n",
    "    width_shift_range=0.1,\n",
    "    height_shift_range=0.1,\n",
    "    rotation_range=30)\n"
   ]
  },
  {
   "cell_type": "code",
   "execution_count": 5,
   "metadata": {},
   "outputs": [],
   "source": [
    "for class_folder in os.listdir(dataset_path):\n",
    "    class_path = os.path.join(dataset_path, class_folder)\n",
    "\n",
    "    # Verifica si el elemento en la ruta es una carpeta\n",
    "    if os.path.isdir(class_path):\n",
    "        # Crea las carpetas correspondientes en el conjunto de entrenamiento y prueba\n",
    "        train_class_folder = os.path.join(train_path, class_folder)\n",
    "        test_class_folder = os.path.join(test_path, class_folder)\n",
    "        os.makedirs(train_class_folder, exist_ok=True)\n",
    "        os.makedirs(test_class_folder, exist_ok=True)\n",
    "\n",
    "        # Obtiene la lista de archivos de imágenes en la carpeta de clase\n",
    "        images = os.listdir(class_path)\n",
    "\n",
    "        # Baraja aleatoriamente las imágenes\n",
    "        random.shuffle(images)\n",
    "\n",
    "        # Calcula el índice para dividir las imágenes\n",
    "        train_size = int(len(images) * train_ratio)\n",
    "\n",
    "        # Divide las imágenes en las sublistas de entrenamiento y prueba\n",
    "        train_images = images[:train_size]\n",
    "        test_images = images[train_size:]\n",
    "\n",
    "        # Genera las imágenes aumentadas y las guarda en la carpeta de entrenamiento\n",
    "        for image in train_images:\n",
    "            src_path = os.path.join(class_path, image)\n",
    "            dst_path = os.path.join(train_class_folder, image)\n",
    "\n",
    "            # Carga la imagen utilizando PIL\n",
    "            img = Image.open(src_path)\n",
    "\n",
    "            # Convierte la imagen a un array numpy\n",
    "            img_array = np.array(img)\n",
    "\n",
    "            # Reshape del array para que tenga dimensiones (1, height, width, channels)\n",
    "            img_array = img_array.reshape((1,) + img_array.shape)\n",
    "\n",
    "            # Genera imágenes aumentadas utilizando ImageDataGenerator\n",
    "            augmented_images = datagen.flow(\n",
    "                img_array, batch_size=1, save_to_dir=train_class_folder, save_prefix=\"aug_\", save_format=\"png\")\n",
    "\n",
    "            # Guarda las imágenes aumentadas generadas\n",
    "            for i, augmented_image in enumerate(augmented_images):\n",
    "                if i >= len(augmented_images):\n",
    "                    break\n",
    "\n",
    "        for image in test_images:\n",
    "            src_path = os.path.join(class_path, image)\n",
    "            dst_path = os.path.join(test_class_folder, image)\n",
    "            shutil.copy(src_path, dst_path)\n"
   ]
  },
  {
   "cell_type": "code",
   "execution_count": null,
   "metadata": {},
   "outputs": [],
   "source": []
  },
  {
   "cell_type": "code",
   "execution_count": null,
   "metadata": {},
   "outputs": [],
   "source": []
  }
 ],
 "metadata": {
  "kernelspec": {
   "display_name": "Python 3.9.13 64-bit (microsoft store)",
   "language": "python",
   "name": "python3"
  },
  "language_info": {
   "codemirror_mode": {
    "name": "ipython",
    "version": 3
   },
   "file_extension": ".py",
   "mimetype": "text/x-python",
   "name": "python",
   "nbconvert_exporter": "python",
   "pygments_lexer": "ipython3",
   "version": "3.9.13"
  },
  "orig_nbformat": 4,
  "vscode": {
   "interpreter": {
    "hash": "33c99ce92ae57a37c90157b7c35934b668ba43f0729fdf7df53b30c6721ba8f2"
   }
  }
 },
 "nbformat": 4,
 "nbformat_minor": 2
}
